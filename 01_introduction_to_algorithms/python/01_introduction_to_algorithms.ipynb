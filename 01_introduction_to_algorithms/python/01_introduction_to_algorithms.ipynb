{
  "nbformat": 4,
  "nbformat_minor": 0,
  "metadata": {
    "colab": {
      "provenance": [],
      "authorship_tag": "ABX9TyPjUIlwTPZ5TV9eki2YHBFo"
    },
    "kernelspec": {
      "name": "python3",
      "display_name": "Python 3"
    },
    "language_info": {
      "name": "python"
    }
  },
  "cells": [
    {
      "cell_type": "markdown",
      "source": [
        "# Introduction to algorithms"
      ],
      "metadata": {
        "id": "E5cpY5xD92v3"
      }
    },
    {
      "cell_type": "markdown",
      "source": [
        "## Binary search"
      ],
      "metadata": {
        "id": "zo-hX1vW962n"
      }
    },
    {
      "cell_type": "code",
      "source": [
        "def binary_search(arr, item):\n",
        "    low, high = 0, len(arr) - 1\n",
        "    while low <= high:\n",
        "        mid = (low + high) // 2\n",
        "        if arr[mid] == item:\n",
        "            return mid\n",
        "        elif arr[mid] > item:\n",
        "            high = mid - 1\n",
        "        else:\n",
        "            low = mid + 1\n",
        "    return None"
      ],
      "metadata": {
        "id": "-0wkdtuo_wp7"
      },
      "execution_count": 1,
      "outputs": []
    },
    {
      "cell_type": "code",
      "source": [
        "my_list = [1, 3, 5, 7, 9]"
      ],
      "metadata": {
        "id": "xRSIgnTtAY3X"
      },
      "execution_count": 2,
      "outputs": []
    },
    {
      "cell_type": "code",
      "source": [
        "# Test:\n",
        "binary_search(my_list, 3)"
      ],
      "metadata": {
        "colab": {
          "base_uri": "https://localhost:8080/"
        },
        "id": "9ED8usg1Ad8z",
        "outputId": "0f9817e5-998e-4a41-87e8-44daebb96a1d"
      },
      "execution_count": 3,
      "outputs": [
        {
          "output_type": "execute_result",
          "data": {
            "text/plain": [
              "1"
            ]
          },
          "metadata": {},
          "execution_count": 3
        }
      ]
    },
    {
      "cell_type": "code",
      "source": [
        "# Test:\n",
        "binary_search(my_list, 9)"
      ],
      "metadata": {
        "colab": {
          "base_uri": "https://localhost:8080/"
        },
        "id": "CPQnzCbsAjIe",
        "outputId": "7c677fba-4791-4603-af13-b85c565f76a1"
      },
      "execution_count": 4,
      "outputs": [
        {
          "output_type": "execute_result",
          "data": {
            "text/plain": [
              "4"
            ]
          },
          "metadata": {},
          "execution_count": 4
        }
      ]
    },
    {
      "cell_type": "code",
      "source": [
        "# Test:\n",
        "binary_search(my_list, -1) is None"
      ],
      "metadata": {
        "colab": {
          "base_uri": "https://localhost:8080/"
        },
        "id": "lQOOj86HAoKW",
        "outputId": "5aa88dc6-d7ec-404e-e835-7777671563c5"
      },
      "execution_count": 5,
      "outputs": [
        {
          "output_type": "execute_result",
          "data": {
            "text/plain": [
              "True"
            ]
          },
          "metadata": {},
          "execution_count": 5
        }
      ]
    },
    {
      "cell_type": "code",
      "source": [
        "# Test:\n",
        "binary_search(my_list, 4) is None"
      ],
      "metadata": {
        "colab": {
          "base_uri": "https://localhost:8080/"
        },
        "id": "FMcg4-WRAxan",
        "outputId": "07b0b45d-a969-4afb-f5bf-4951d546a49a"
      },
      "execution_count": 6,
      "outputs": [
        {
          "output_type": "execute_result",
          "data": {
            "text/plain": [
              "True"
            ]
          },
          "metadata": {},
          "execution_count": 6
        }
      ]
    },
    {
      "cell_type": "markdown",
      "source": [
        "### Exercises"
      ],
      "metadata": {
        "id": "XKRhTNwS-a0l"
      }
    },
    {
      "cell_type": "markdown",
      "source": [
        "#### 1.1"
      ],
      "metadata": {
        "id": "-mx9NnCGC1IH"
      }
    },
    {
      "cell_type": "code",
      "source": [
        "import math\n",
        "\n",
        "help(math.log)"
      ],
      "metadata": {
        "colab": {
          "base_uri": "https://localhost:8080/"
        },
        "id": "Y-03fvn6XYWE",
        "outputId": "a322a376-1cff-4bc3-d20b-ea65b076c9b4"
      },
      "execution_count": 7,
      "outputs": [
        {
          "output_type": "stream",
          "name": "stdout",
          "text": [
            "Help on built-in function log in module math:\n",
            "\n",
            "log(...)\n",
            "    log(x, [base=math.e])\n",
            "    Return the logarithm of x to the given base.\n",
            "    \n",
            "    If the base not specified, returns the natural logarithm (base e) of x.\n",
            "\n"
          ]
        }
      ]
    },
    {
      "cell_type": "code",
      "source": [
        "math.log(128, 2)"
      ],
      "metadata": {
        "colab": {
          "base_uri": "https://localhost:8080/"
        },
        "id": "aUSRFtkGXejv",
        "outputId": "c05d8c51-0fb4-4573-a302-b5a826e8f594"
      },
      "execution_count": 8,
      "outputs": [
        {
          "output_type": "execute_result",
          "data": {
            "text/plain": [
              "7.0"
            ]
          },
          "metadata": {},
          "execution_count": 8
        }
      ]
    },
    {
      "cell_type": "markdown",
      "source": [
        "#### 1.2"
      ],
      "metadata": {
        "id": "RE1rnlfXWdIo"
      }
    },
    {
      "cell_type": "code",
      "source": [
        "7 + 1"
      ],
      "metadata": {
        "colab": {
          "base_uri": "https://localhost:8080/"
        },
        "id": "XpZxo9n3Xq5A",
        "outputId": "b329418b-b8da-4ed1-cecd-4dbb61fa7d90"
      },
      "execution_count": 9,
      "outputs": [
        {
          "output_type": "execute_result",
          "data": {
            "text/plain": [
              "8"
            ]
          },
          "metadata": {},
          "execution_count": 9
        }
      ]
    },
    {
      "cell_type": "markdown",
      "source": [
        "## Big O notation"
      ],
      "metadata": {
        "id": "FKpluy9d9_Z-"
      }
    },
    {
      "cell_type": "markdown",
      "source": [
        "### Exercises"
      ],
      "metadata": {
        "id": "H4Hu8WmP-c_U"
      }
    },
    {
      "cell_type": "code",
      "source": [],
      "metadata": {
        "id": "sWf-6l1F6403"
      },
      "execution_count": 9,
      "outputs": []
    }
  ]
}