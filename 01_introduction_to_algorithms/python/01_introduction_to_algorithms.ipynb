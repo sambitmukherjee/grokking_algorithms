{
  "nbformat": 4,
  "nbformat_minor": 0,
  "metadata": {
    "colab": {
      "provenance": [],
      "toc_visible": true,
      "authorship_tag": "ABX9TyNWC+pR2TaK2lnP07SmeNV8"
    },
    "kernelspec": {
      "name": "python3",
      "display_name": "Python 3"
    },
    "language_info": {
      "name": "python"
    }
  },
  "cells": [
    {
      "cell_type": "markdown",
      "source": [
        "# Introduction to algorithms"
      ],
      "metadata": {
        "id": "E5cpY5xD92v3"
      }
    },
    {
      "cell_type": "markdown",
      "source": [
        "## Binary search"
      ],
      "metadata": {
        "id": "zo-hX1vW962n"
      }
    },
    {
      "cell_type": "code",
      "source": [
        "def binary_search(arr, item):\n",
        "    low, high = 0, len(arr) - 1\n",
        "    while low <= high:\n",
        "        mid = (low + high) // 2\n",
        "        if arr[mid] == item:\n",
        "            return mid\n",
        "        elif arr[mid] > item:\n",
        "            high = mid - 1\n",
        "        else:\n",
        "            low = mid + 1\n",
        "    return None"
      ],
      "metadata": {
        "id": "-0wkdtuo_wp7"
      },
      "execution_count": 1,
      "outputs": []
    },
    {
      "cell_type": "code",
      "source": [
        "my_list = [1, 3, 5, 7, 9]"
      ],
      "metadata": {
        "id": "xRSIgnTtAY3X"
      },
      "execution_count": 2,
      "outputs": []
    },
    {
      "cell_type": "code",
      "source": [
        "# Test:\n",
        "binary_search(my_list, 3)"
      ],
      "metadata": {
        "colab": {
          "base_uri": "https://localhost:8080/"
        },
        "id": "9ED8usg1Ad8z",
        "outputId": "5d001b1d-64ab-45ae-8c7f-28b2a589bb72"
      },
      "execution_count": 3,
      "outputs": [
        {
          "output_type": "execute_result",
          "data": {
            "text/plain": [
              "1"
            ]
          },
          "metadata": {},
          "execution_count": 3
        }
      ]
    },
    {
      "cell_type": "code",
      "source": [
        "# Test:\n",
        "binary_search(my_list, 9)"
      ],
      "metadata": {
        "colab": {
          "base_uri": "https://localhost:8080/"
        },
        "id": "CPQnzCbsAjIe",
        "outputId": "2cc3fd8d-4c23-4830-c1e4-5bc1aec1bceb"
      },
      "execution_count": 4,
      "outputs": [
        {
          "output_type": "execute_result",
          "data": {
            "text/plain": [
              "4"
            ]
          },
          "metadata": {},
          "execution_count": 4
        }
      ]
    },
    {
      "cell_type": "code",
      "source": [
        "# Test:\n",
        "binary_search(my_list, -1) is None"
      ],
      "metadata": {
        "colab": {
          "base_uri": "https://localhost:8080/"
        },
        "id": "lQOOj86HAoKW",
        "outputId": "3fed9662-8e30-400a-8656-114918f5cd93"
      },
      "execution_count": 5,
      "outputs": [
        {
          "output_type": "execute_result",
          "data": {
            "text/plain": [
              "True"
            ]
          },
          "metadata": {},
          "execution_count": 5
        }
      ]
    },
    {
      "cell_type": "code",
      "source": [
        "# Test:\n",
        "binary_search(my_list, 4) is None"
      ],
      "metadata": {
        "colab": {
          "base_uri": "https://localhost:8080/"
        },
        "id": "FMcg4-WRAxan",
        "outputId": "2626f4cf-3aa6-47fb-b5b8-14963393c0ee"
      },
      "execution_count": 6,
      "outputs": [
        {
          "output_type": "execute_result",
          "data": {
            "text/plain": [
              "True"
            ]
          },
          "metadata": {},
          "execution_count": 6
        }
      ]
    },
    {
      "cell_type": "markdown",
      "source": [
        "### Exercises"
      ],
      "metadata": {
        "id": "XKRhTNwS-a0l"
      }
    },
    {
      "cell_type": "markdown",
      "source": [
        "#### 1.1"
      ],
      "metadata": {
        "id": "-mx9NnCGC1IH"
      }
    },
    {
      "cell_type": "code",
      "source": [
        "import math\n",
        "\n",
        "help(math.log)"
      ],
      "metadata": {
        "colab": {
          "base_uri": "https://localhost:8080/"
        },
        "id": "Y-03fvn6XYWE",
        "outputId": "90e5c98d-0d74-4eec-c9da-410d896bfe5a"
      },
      "execution_count": 7,
      "outputs": [
        {
          "output_type": "stream",
          "name": "stdout",
          "text": [
            "Help on built-in function log in module math:\n",
            "\n",
            "log(...)\n",
            "    log(x, [base=math.e])\n",
            "    Return the logarithm of x to the given base.\n",
            "    \n",
            "    If the base not specified, returns the natural logarithm (base e) of x.\n",
            "\n"
          ]
        }
      ]
    },
    {
      "cell_type": "code",
      "source": [
        "math.log(128, 2)"
      ],
      "metadata": {
        "colab": {
          "base_uri": "https://localhost:8080/"
        },
        "id": "aUSRFtkGXejv",
        "outputId": "685f67df-ac31-4c60-8309-339434517893"
      },
      "execution_count": 8,
      "outputs": [
        {
          "output_type": "execute_result",
          "data": {
            "text/plain": [
              "7.0"
            ]
          },
          "metadata": {},
          "execution_count": 8
        }
      ]
    },
    {
      "cell_type": "markdown",
      "source": [
        "#### 1.2"
      ],
      "metadata": {
        "id": "RE1rnlfXWdIo"
      }
    },
    {
      "cell_type": "code",
      "source": [
        "7 + 1"
      ],
      "metadata": {
        "colab": {
          "base_uri": "https://localhost:8080/"
        },
        "id": "XpZxo9n3Xq5A",
        "outputId": "571cd27a-01da-44f1-ce9f-2572dc036494"
      },
      "execution_count": 9,
      "outputs": [
        {
          "output_type": "execute_result",
          "data": {
            "text/plain": [
              "8"
            ]
          },
          "metadata": {},
          "execution_count": 9
        }
      ]
    },
    {
      "cell_type": "markdown",
      "source": [
        "## Big O notation"
      ],
      "metadata": {
        "id": "FKpluy9d9_Z-"
      }
    },
    {
      "cell_type": "markdown",
      "source": [
        "### Exercises"
      ],
      "metadata": {
        "id": "H4Hu8WmP-c_U"
      }
    },
    {
      "cell_type": "markdown",
      "source": [
        "#### 1.3"
      ],
      "metadata": {
        "id": "zLbTtGbIbHn1"
      }
    },
    {
      "cell_type": "markdown",
      "source": [
        "$O(log(n))$"
      ],
      "metadata": {
        "id": "CE4vdhNdbKV4"
      }
    },
    {
      "cell_type": "markdown",
      "source": [
        "#### 1.4"
      ],
      "metadata": {
        "id": "RuwMPT2NbXUN"
      }
    },
    {
      "cell_type": "markdown",
      "source": [
        "$O(n)$"
      ],
      "metadata": {
        "id": "VX6DpSRWbZzz"
      }
    },
    {
      "cell_type": "markdown",
      "source": [
        "#### 1.5"
      ],
      "metadata": {
        "id": "bJOZjUOJbi9g"
      }
    },
    {
      "cell_type": "markdown",
      "source": [
        "$O(n)$"
      ],
      "metadata": {
        "id": "UDBQuC40bk_w"
      }
    },
    {
      "cell_type": "markdown",
      "source": [
        "#### 1.6"
      ],
      "metadata": {
        "id": "7K-44rl6bqOq"
      }
    },
    {
      "cell_type": "markdown",
      "source": [
        "$O(n)$"
      ],
      "metadata": {
        "id": "qhl_Ayo4brxP"
      }
    },
    {
      "cell_type": "markdown",
      "source": [
        "### The traveling salesperson"
      ],
      "metadata": {
        "id": "ErlfqEJQ997k"
      }
    },
    {
      "cell_type": "code",
      "source": [
        "from itertools import permutations\n",
        "\n",
        "perms = permutations(['Marin', 'Berkeley', 'San Francisco', 'Fremont', 'Palo Alto'])\n",
        "perms"
      ],
      "metadata": {
        "id": "sWf-6l1F6403",
        "colab": {
          "base_uri": "https://localhost:8080/"
        },
        "outputId": "5d10e33e-a11e-4d04-dedf-0c025fce70f6"
      },
      "execution_count": 10,
      "outputs": [
        {
          "output_type": "execute_result",
          "data": {
            "text/plain": [
              "<itertools.permutations at 0x7ee262d1e1b0>"
            ]
          },
          "metadata": {},
          "execution_count": 10
        }
      ]
    },
    {
      "cell_type": "code",
      "source": [
        "all = [p for p in perms]\n",
        "all[:5]"
      ],
      "metadata": {
        "colab": {
          "base_uri": "https://localhost:8080/"
        },
        "id": "PNmS4U-HFti8",
        "outputId": "49f37b5c-ba2c-48d4-f693-23f9982ed5e2"
      },
      "execution_count": 11,
      "outputs": [
        {
          "output_type": "execute_result",
          "data": {
            "text/plain": [
              "[('Marin', 'Berkeley', 'San Francisco', 'Fremont', 'Palo Alto'),\n",
              " ('Marin', 'Berkeley', 'San Francisco', 'Palo Alto', 'Fremont'),\n",
              " ('Marin', 'Berkeley', 'Fremont', 'San Francisco', 'Palo Alto'),\n",
              " ('Marin', 'Berkeley', 'Fremont', 'Palo Alto', 'San Francisco'),\n",
              " ('Marin', 'Berkeley', 'Palo Alto', 'San Francisco', 'Fremont')]"
            ]
          },
          "metadata": {},
          "execution_count": 11
        }
      ]
    },
    {
      "cell_type": "code",
      "source": [
        "len(all)"
      ],
      "metadata": {
        "colab": {
          "base_uri": "https://localhost:8080/"
        },
        "id": "3Hhn3kAJFxNd",
        "outputId": "c2134471-d889-43d2-d0db-b0086e7635df"
      },
      "execution_count": 12,
      "outputs": [
        {
          "output_type": "execute_result",
          "data": {
            "text/plain": [
              "120"
            ]
          },
          "metadata": {},
          "execution_count": 12
        }
      ]
    },
    {
      "cell_type": "markdown",
      "source": [
        "**Note:** For the full algorithmic solution to the traveling salesperson problem, we'll need the distances between each pair of points."
      ],
      "metadata": {
        "id": "ti_ivdr1F85n"
      }
    },
    {
      "cell_type": "code",
      "source": [],
      "metadata": {
        "id": "sM0KajJGF2P7"
      },
      "execution_count": 12,
      "outputs": []
    }
  ]
}